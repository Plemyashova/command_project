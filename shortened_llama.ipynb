{
  "cells": [
    {
      "cell_type": "markdown",
      "id": "805cb2ef-734e-4623-a6c0-b360f25ddacc",
      "metadata": {
        "id": "805cb2ef-734e-4623-a6c0-b360f25ddacc"
      },
      "source": [
        "**Применим метод к модели gemma-2b**"
      ]
    },
    {
      "cell_type": "code",
      "source": [
        "# Вводим в терминал:\n",
        "! python3 -m venv venv source venv/bin/activate"
      ],
      "metadata": {
        "id": "GOVJBfjpSSFP"
      },
      "id": "GOVJBfjpSSFP",
      "execution_count": null,
      "outputs": []
    },
    {
      "cell_type": "code",
      "source": [
        "! pip install -r requirements.txt\n",
        "#перезапустить среду"
      ],
      "metadata": {
        "id": "FZqcSYbTS5o2"
      },
      "id": "FZqcSYbTS5o2",
      "execution_count": null,
      "outputs": []
    },
    {
      "cell_type": "code",
      "source": [
        "#клонируем репозиторий shortened-llama\n",
        "! git clone https://github.com/Nota-NetsPresso/shortened-llm.git\n",
        "%cd shortened-llm"
      ],
      "metadata": {
        "id": "UiLXXRFQTCLs"
      },
      "id": "UiLXXRFQTCLs",
      "execution_count": null,
      "outputs": []
    },
    {
      "cell_type": "code",
      "source": [
        "# создаем новый файл prune_gemma.sh, если такого нет\n",
        "! touch script/prune_gemma.sh\n",
        "! chmod +x script/prune_gemma.sh"
      ],
      "metadata": {
        "id": "OjyIoLQXTGfe"
      },
      "id": "OjyIoLQXTGfe",
      "execution_count": null,
      "outputs": []
    },
    {
      "cell_type": "code",
      "source": [
        "#добавляем туда виртуальное окружение\n",
        "! source ../venv/bin/activate"
      ],
      "metadata": {
        "id": "8OhwDs_DUEHt"
      },
      "id": "8OhwDs_DUEHt",
      "execution_count": null,
      "outputs": []
    },
    {
      "cell_type": "code",
      "source": [
        "#обрезка модели Gemma с использованием Perplexity\n",
        "!python prune_model.py \\\n",
        "--model_name_or_path google/gemma-2b \\\n",
        "--output_dir pruned_gemma_2b \\\n",
        "--pruning_criterion ppl \\\n",
        "--rank 128"
      ],
      "metadata": {
        "id": "uA6Jr4IbW89J"
      },
      "id": "uA6Jr4IbW89J",
      "execution_count": null,
      "outputs": []
    },
    {
      "cell_type": "code",
      "source": [
        "#запускаем скрипт\n",
        "! bash script/prune_gemma.sh"
      ],
      "metadata": {
        "id": "pliXDuUKU2vo"
      },
      "id": "pliXDuUKU2vo",
      "execution_count": null,
      "outputs": []
    },
    {
      "cell_type": "code",
      "execution_count": null,
      "id": "3335f3b3-6a85-4991-baf5-7759c9c0510c",
      "metadata": {
        "id": "3335f3b3-6a85-4991-baf5-7759c9c0510c"
      },
      "outputs": [],
      "source": [
        "from transformers import AutoModelForCausalLM, AutoTokenizer\n",
        "\n",
        "model_name = \"pruned_gemma_2b\"\n",
        "\n",
        "model = AutoModelForCausalLM.from_pretrained(model_name)\n",
        "tokenizer = AutoTokenizer.from_pretrained(model_name)\n",
        "\n",
        "\n",
        "input_text = \"Какой-либо пример для генерации\" # ???\n",
        "input_ids = tokenizer.encode(input_text, return_tensors=\"pt\")\n",
        "\n",
        "output = model.generate(input_ids, max_length=50)\n",
        "generated_text = tokenizer.decode(output[0], skip_special_tokens=True)\n",
        "\n",
        "\n",
        "generated_text\n"
      ]
    },
    {
      "cell_type": "markdown",
      "id": "8a75b0ee-42df-4719-bfb5-7f987cce98b7",
      "metadata": {
        "id": "8a75b0ee-42df-4719-bfb5-7f987cce98b7"
      },
      "source": [
        "### Дообучение"
      ]
    },
    {
      "cell_type": "code",
      "execution_count": null,
      "id": "c3f486e0-a889-400e-b33a-e57ea44b5c8b",
      "metadata": {
        "id": "c3f486e0-a889-400e-b33a-e57ea44b5c8b"
      },
      "outputs": [],
      "source": [
        "from transformers import Trainer, TrainingArguments, AutoModelForCausalLM, AutoTokenizer\n",
        "from datasets import load_dataset\n",
        "\n",
        "# Загрузка обрезанной модели Gemma\n",
        "model_name = \"./pruned_gemma_2b\"  # Путь к вашей обрезанной модели\n",
        "model = AutoModelForCausalLM.from_pretrained(model_name)\n",
        "tokenizer = AutoTokenizer.from_pretrained(model_name)\n",
        "\n",
        "# Загрузка набора данных StackOverflow\n",
        "dataset = load_dataset('stackoverflow', split='train[:5%]')\n",
        "\n",
        "# Подготовка данных (токенизация)\n",
        "def tokenize_function(examples):\n",
        "    return tokenizer(examples['text'], padding=\"max_length\", truncation=True)\n",
        "\n",
        "tokenized_datasets = dataset.map(tokenize_function, batched=True)\n",
        "\n",
        "training_args = TrainingArguments(\n",
        "    output_dir='./results',\n",
        "    evaluation_strategy=\"epoch\",\n",
        "    learning_rate=2e-5,\n",
        "    per_device_train_batch_size=2,\n",
        "    per_device_eval_batch_size=2,\n",
        "    num_train_epochs=3,\n",
        "    weight_decay=0.01,\n",
        ")\n",
        "\n",
        "trainer = Trainer(\n",
        "    model=model,\n",
        "    args=training_args,\n",
        "    train_dataset=tokenized_datasets,\n",
        ")\n",
        "\n",
        "trainer.train()\n"
      ]
    },
    {
      "cell_type": "code",
      "source": [],
      "metadata": {
        "id": "gdDziTKxVRzA"
      },
      "id": "gdDziTKxVRzA",
      "execution_count": null,
      "outputs": []
    }
  ],
  "metadata": {
    "kernelspec": {
      "display_name": "Python 3 (ipykernel)",
      "language": "python",
      "name": "python3"
    },
    "language_info": {
      "codemirror_mode": {
        "name": "ipython",
        "version": 3
      },
      "file_extension": ".py",
      "mimetype": "text/x-python",
      "name": "python",
      "nbconvert_exporter": "python",
      "pygments_lexer": "ipython3",
      "version": "3.12.3"
    },
    "colab": {
      "provenance": []
    }
  },
  "nbformat": 4,
  "nbformat_minor": 5
}